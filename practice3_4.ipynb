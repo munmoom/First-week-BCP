{
  "nbformat": 4,
  "nbformat_minor": 0,
  "metadata": {
    "colab": {
      "name": "practice3.4",
      "provenance": [],
      "authorship_tag": "ABX9TyPH40+uZDHQv882pVWMFi4A",
      "include_colab_link": true
    },
    "kernelspec": {
      "name": "python3",
      "display_name": "Python 3"
    },
    "language_info": {
      "name": "python"
    }
  },
  "cells": [
    {
      "cell_type": "markdown",
      "metadata": {
        "id": "view-in-github",
        "colab_type": "text"
      },
      "source": [
        "<a href=\"https://colab.research.google.com/github/munmoom/First-week-BCP/blob/main/practice3_4.ipynb\" target=\"_parent\"><img src=\"https://colab.research.google.com/assets/colab-badge.svg\" alt=\"Open In Colab\"/></a>"
      ]
    },
    {
      "cell_type": "code",
      "execution_count": 4,
      "metadata": {
        "colab": {
          "base_uri": "https://localhost:8080/",
          "height": 35
        },
        "id": "YCgDNy5pgi0E",
        "outputId": "1c6d19a4-18bf-4378-d637-fd61d8f9d383"
      },
      "outputs": [
        {
          "output_type": "execute_result",
          "data": {
            "application/vnd.google.colaboratory.intrinsic+json": {
              "type": "string"
            },
            "text/plain": [
              "'cat gentle'"
            ]
          },
          "metadata": {},
          "execution_count": 4
        }
      ],
      "source": [
        "friend='cat'\n",
        "good='gentle'\n",
        "friend+' '+good"
      ]
    },
    {
      "cell_type": "markdown",
      "source": [
        "I want to wirte 'gentle cat'"
      ],
      "metadata": {
        "id": "-2SyQaUehRxU"
      }
    },
    {
      "cell_type": "code",
      "source": [
        "good+' '+friend"
      ],
      "metadata": {
        "colab": {
          "base_uri": "https://localhost:8080/",
          "height": 35
        },
        "id": "txstaynmhc9N",
        "outputId": "affe47fb-f6dd-4ffc-8d31-d3e8e43e30be"
      },
      "execution_count": 5,
      "outputs": [
        {
          "output_type": "execute_result",
          "data": {
            "application/vnd.google.colaboratory.intrinsic+json": {
              "type": "string"
            },
            "text/plain": [
              "'gentle cat'"
            ]
          },
          "metadata": {},
          "execution_count": 5
        }
      ]
    }
  ]
}