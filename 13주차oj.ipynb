{
  "nbformat": 4,
  "nbformat_minor": 0,
  "metadata": {
    "colab": {
      "name": "Untitled58.ipynb",
      "provenance": [],
      "authorship_tag": "ABX9TyMaUP/dsJyN/RPE7piEOMi+",
      "include_colab_link": true
    },
    "kernelspec": {
      "name": "python3",
      "display_name": "Python 3"
    },
    "language_info": {
      "name": "python"
    }
  },
  "cells": [
    {
      "cell_type": "markdown",
      "metadata": {
        "id": "view-in-github",
        "colab_type": "text"
      },
      "source": [
        "<a href=\"https://colab.research.google.com/github/munmoom/First-week-BCP/blob/main/13%EC%A3%BC%EC%B0%A8oj.ipynb\" target=\"_parent\"><img src=\"https://colab.research.google.com/assets/colab-badge.svg\" alt=\"Open In Colab\"/></a>"
      ]
    },
    {
      "cell_type": "code",
      "execution_count": 2,
      "metadata": {
        "colab": {
          "base_uri": "https://localhost:8080/"
        },
        "id": "42rVXJwGsU6Z",
        "outputId": "dd72d313-f4b7-4caf-f77f-a0e8f8631c82"
      },
      "outputs": [
        {
          "output_type": "stream",
          "name": "stdout",
          "text": [
            "6\n",
            "3\n",
            "8 10\n",
            "10 5\n",
            "6 4\n",
            "4 3\n",
            "7 2\n",
            "8 5\n",
            "17\n"
          ]
        }
      ],
      "source": [
        "n = int(input())\n",
        "m = int(input())\n",
        "\n",
        "M = [m]\n",
        "\n",
        "for i in range(n):\n",
        "  A, B = map(int, input().split())\n",
        "  T = A - B\n",
        "  m += T\n",
        "  M.append(m)\n",
        "  \n",
        "print(max(M))"
      ]
    },
    {
      "cell_type": "markdown",
      "source": [
        "6\n",
        "3\n",
        "8 10\n",
        "10 5\n",
        "6 4\n",
        "4 3\n",
        "7 2\n",
        "8 5"
      ],
      "metadata": {
        "id": "P27SGUFLsZK_"
      }
    },
    {
      "cell_type": "code",
      "source": [
        "while True:\n",
        " X, Y = map(int, input().split())\n",
        " if X == 0 and Y == 0:\n",
        "   break\n",
        " print(x-(y-x))"
      ],
      "metadata": {
        "id": "lwpABDMEwOfR"
      },
      "execution_count": null,
      "outputs": []
    },
    {
      "cell_type": "code",
      "source": [
        "while True:\n",
        " X, Y = map(int, input().split())\n",
        " if A == 0 and B == 0:\n",
        "   break"
      ],
      "metadata": {
        "id": "afRwMwbjxgcB"
      },
      "execution_count": null,
      "outputs": []
    },
    {
      "cell_type": "code",
      "source": [
        "X = 1\n",
        "Y = 4\n",
        "Z = 2\n",
        "li = []\n",
        "li.append(X)\n",
        "li.append(Y)\n",
        "li.append(Z)\n",
        "li.sort()\n",
        "midd = li[1]\n",
        "\n",
        "print(midd)"
      ],
      "metadata": {
        "colab": {
          "base_uri": "https://localhost:8080/"
        },
        "id": "4Q1oyXTXyUQR",
        "outputId": "a57740a6-72dc-4ff3-ec8b-43c66030251d"
      },
      "execution_count": 13,
      "outputs": [
        {
          "output_type": "stream",
          "name": "stdout",
          "text": [
            "2\n"
          ]
        }
      ]
    },
    {
      "cell_type": "code",
      "source": [
        ""
      ],
      "metadata": {
        "id": "WxRDG8KezNGp"
      },
      "execution_count": null,
      "outputs": []
    },
    {
      "cell_type": "markdown",
      "source": [
        "1 8\n",
        "4 6\n",
        "7 9\n",
        "1 7\n",
        "6 11\n",
        "0 0"
      ],
      "metadata": {
        "id": "O2U9Dm5lwQxZ"
      }
    },
    {
      "cell_type": "code",
      "source": [
        "T = int(input())\n",
        "for i in range(T):\n",
        " A = input().split()\n",
        " num = int(A[0])\n",
        " tri = len(A)\n",
        " for k in range(1,tri):\n",
        "  if A[k]=='@':\n",
        "    num = num*3\n",
        "  if A[k]=='%':\n",
        "    num = num + 5\n",
        "  if A[k]=='#':\n",
        "    num = num - 7\n",
        " print(int(format(num.\".2f\")))"
      ],
      "metadata": {
        "colab": {
          "base_uri": "https://localhost:8080/",
          "height": 137
        },
        "id": "nnvfmbN22vpy",
        "outputId": "029b6b1c-0363-451a-d3ba-b566e6bf7654"
      },
      "execution_count": 15,
      "outputs": [
        {
          "output_type": "error",
          "ename": "SyntaxError",
          "evalue": "ignored",
          "traceback": [
            "\u001b[0;36m  File \u001b[0;32m\"<ipython-input-15-e38d0d02b127>\"\u001b[0;36m, line \u001b[0;32m13\u001b[0m\n\u001b[0;31m    print(int(format(num.\".2f\")))\u001b[0m\n\u001b[0m                             ^\u001b[0m\n\u001b[0;31mSyntaxError\u001b[0m\u001b[0;31m:\u001b[0m invalid syntax\n"
          ]
        }
      ]
    }
  ]
}