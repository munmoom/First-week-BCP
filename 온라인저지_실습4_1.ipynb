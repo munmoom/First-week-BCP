{
  "nbformat": 4,
  "nbformat_minor": 0,
  "metadata": {
    "colab": {
      "name": "온라인저지 실습4_1.ipynb",
      "provenance": [],
      "authorship_tag": "ABX9TyNEfnNrTnXoaZEOcFLWijUw",
      "include_colab_link": true
    },
    "kernelspec": {
      "name": "python3",
      "display_name": "Python 3"
    },
    "language_info": {
      "name": "python"
    }
  },
  "cells": [
    {
      "cell_type": "markdown",
      "metadata": {
        "id": "view-in-github",
        "colab_type": "text"
      },
      "source": [
        "<a href=\"https://colab.research.google.com/github/munmoom/First-week-BCP/blob/main/%EC%98%A8%EB%9D%BC%EC%9D%B8%EC%A0%80%EC%A7%80_%EC%8B%A4%EC%8A%B54_1.ipynb\" target=\"_parent\"><img src=\"https://colab.research.google.com/assets/colab-badge.svg\" alt=\"Open In Colab\"/></a>"
      ]
    },
    {
      "cell_type": "code",
      "execution_count": null,
      "metadata": {
        "id": "SZGH__W3gycg"
      },
      "outputs": [],
      "source": [
        "3번\n",
        "n + int(input())\n",
        "sum +0\n",
        " for i in range(1, n+1)\n",
        "  sum +=i\n",
        "print\n",
        "\n",
        "while n>0:\n",
        "  sum +=i\n",
        "\n",
        "  \n",
        "\n"
      ]
    },
    {
      "cell_type": "code",
      "source": [
        "4번\n",
        "a, b, c + map(int, input().split())\n",
        "\n",
        "if a==b and b==c:\n",
        "  "
      ],
      "metadata": {
        "id": "XDqi4PtXi0Gp"
      },
      "execution_count": null,
      "outputs": []
    },
    {
      "cell_type": "markdown",
      "source": [
        "모두 같을 때, 2개만 같은 때, 다 다를 때\n",
        "\n",
        "a == b == c X\n",
        "\n",
        "max 함수\n",
        "\n",
        "max(a, b, c) -> rkwkd zms rkqt qksghks\n",
        "\n"
      ],
      "metadata": {
        "id": "MDnorqOTi8g5"
      }
    },
    {
      "cell_type": "code",
      "source": [
        "while True:\n",
        "   a, b + map(int, input().split())\n",
        "   if a==o and b==0:\n",
        "      break\n",
        "   else:\n",
        "      print(a+b)"
      ],
      "metadata": {
        "id": "KiOh-MOZj-_J"
      },
      "execution_count": null,
      "outputs": []
    },
    {
      "cell_type": "code",
      "source": [
        "x = [0]\n",
        "for _ in x:\n",
        "  x.append(1)"
      ],
      "metadata": {
        "id": "ZHH7koWikV4x"
      },
      "execution_count": null,
      "outputs": []
    },
    {
      "cell_type": "code",
      "source": [
        "input().split()\n",
        "#문자열로 받아서 나중에 INT 로"
      ],
      "metadata": {
        "id": "GIcDfOf9kqSx"
      },
      "execution_count": null,
      "outputs": []
    },
    {
      "cell_type": "code",
      "source": [
        ""
      ],
      "metadata": {
        "id": "61Mh7zkEmdpJ"
      },
      "execution_count": null,
      "outputs": []
    },
    {
      "cell_type": "code",
      "source": [
        "string = list(input())\n",
        "ans =0 #변수선언\n",
        "s = False\n",
        "\n",
        "for k in range(len(string)):\n",
        " if string[k] !=' ' and s == False\n",
        "   ans +=1\n",
        "   s= True\n",
        "\n",
        " if string[k] !=' ' and s == True\n",
        "   s= False"
      ],
      "metadata": {
        "id": "2c6ad5cdk0JJ"
      },
      "execution_count": null,
      "outputs": []
    },
    {
      "cell_type": "code",
      "source": [
        "list(input(),split())\n",
        "print(len(a))"
      ],
      "metadata": {
        "id": "RTBbUo8zlKTB"
      },
      "execution_count": null,
      "outputs": []
    },
    {
      "cell_type": "markdown",
      "source": [
        "과제"
      ],
      "metadata": {
        "id": "OvZeDI5xj_PQ"
      }
    },
    {
      "cell_type": "code",
      "source": [
        "3\n",
        "\n",
        "ans = 0\n",
        "sco = 0\n",
        "\n",
        "for i in range(10):\n",
        "  sco+=int(input())\n",
        "  if 100-ans >= abs(100-sco)\n",
        "   ans = sco\n",
        "\n",
        "print(ans)"
      ],
      "metadata": {
        "id": "Lr05We2BmUFB"
      },
      "execution_count": null,
      "outputs": []
    },
    {
      "cell_type": "code",
      "source": [
        "4\n",
        "t = int(input())\n",
        "for _ in range(t)\n",
        " n = int(input())\n",
        " result = 1 #변수 팩토리얼\n",
        " for i in tange(1, 1+n)\n",
        "  result *=i\n",
        "  while result % 10 ==0\n",
        "   result //=10\n",
        "  result %=n1000\n",
        " result %= 10\n",
        " print(result)"
      ],
      "metadata": {
        "id": "Qn1U4TdPnptR"
      },
      "execution_count": null,
      "outputs": []
    },
    {
      "cell_type": "code",
      "source": [
        "5\n",
        "n = int(input())\n",
        "f = 1\n",
        "for i in range(1, n+1)\n",
        " f*=i\n",
        " while True:\n",
        "   if str(f)[-1] = \"0\":\n",
        "    f //= 10\n",
        "   else:\n",
        "      break\n",
        " f%=1000000000000000\n",
        "print*str(f)[-5:]"
      ],
      "metadata": {
        "id": "pLBc2g-6o7ep"
      },
      "execution_count": null,
      "outputs": []
    }
  ]
}