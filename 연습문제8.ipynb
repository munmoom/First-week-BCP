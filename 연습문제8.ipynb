{
  "nbformat": 4,
  "nbformat_minor": 0,
  "metadata": {
    "colab": {
      "name": "Untitled57.ipynb",
      "provenance": [],
      "authorship_tag": "ABX9TyPsHKs5VGRsiCVRaCgZvHzC",
      "include_colab_link": true
    },
    "kernelspec": {
      "name": "python3",
      "display_name": "Python 3"
    },
    "language_info": {
      "name": "python"
    }
  },
  "cells": [
    {
      "cell_type": "markdown",
      "metadata": {
        "id": "view-in-github",
        "colab_type": "text"
      },
      "source": [
        "<a href=\"https://colab.research.google.com/github/munmoom/First-week-BCP/blob/main/%EC%97%B0%EC%8A%B5%EB%AC%B8%EC%A0%9C8.ipynb\" target=\"_parent\"><img src=\"https://colab.research.google.com/assets/colab-badge.svg\" alt=\"Open In Colab\"/></a>"
      ]
    },
    {
      "cell_type": "code",
      "execution_count": 7,
      "metadata": {
        "colab": {
          "base_uri": "https://localhost:8080/"
        },
        "id": "GzxWmFh8e4OK",
        "outputId": "345aa8ee-2d81-41a5-fe51-6e5f0feef04b"
      },
      "outputs": [
        {
          "output_type": "stream",
          "name": "stdout",
          "text": [
            "11\n",
            "123\n",
            "134\n"
          ]
        }
      ],
      "source": [
        "A = input()\n",
        "B = input()\n",
        "\n",
        "a = len(A)\n",
        "b = len(B)\n",
        "n = abs(a-b)\n",
        "\n",
        "K = B if a>b else A\n",
        "\n",
        "for i in range(0,n+1):\n",
        " K = '0' + K\n",
        " i +=1\n",
        "\n",
        "if K==B:\n",
        "  P = '0' + A\n",
        "else:\n",
        "  P = '0' + B\n",
        "\n",
        "result = 0\n",
        "i = 0\n",
        "c = 0\n",
        "for i in range(1, len(K)+1):\n",
        "  k = ord(K[-i]) - ord('0')\n",
        "  p = ord(P[-i]) - ord('0')\n",
        "  res = k + p + c\n",
        "  R = res//10\n",
        "  if R > 0:\n",
        "    c = R\n",
        "    res -= R*10\n",
        "  else:\n",
        "    c = 0\n",
        "  result += res*10**(i-1)\n",
        "  i += 1\n",
        "\n",
        "print(str(result))"
      ]
    }
  ]
}