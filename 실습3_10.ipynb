{
  "nbformat": 4,
  "nbformat_minor": 0,
  "metadata": {
    "colab": {
      "name": "실습3.10.ipynb",
      "provenance": [],
      "collapsed_sections": [],
      "mount_file_id": "1glSQjXXKgbHDTb6Xb9Bl3rqDttmuVhDa",
      "authorship_tag": "ABX9TyMtSI5C/uaFTpeYoKM2X+HK",
      "include_colab_link": true
    },
    "kernelspec": {
      "name": "python3",
      "display_name": "Python 3"
    },
    "language_info": {
      "name": "python"
    }
  },
  "cells": [
    {
      "cell_type": "markdown",
      "metadata": {
        "id": "view-in-github",
        "colab_type": "text"
      },
      "source": [
        "<a href=\"https://colab.research.google.com/github/munmoom/First-week-BCP/blob/main/%EC%8B%A4%EC%8A%B53_10.ipynb\" target=\"_parent\"><img src=\"https://colab.research.google.com/assets/colab-badge.svg\" alt=\"Open In Colab\"/></a>"
      ]
    },
    {
      "cell_type": "markdown",
      "source": [
        "실습"
      ],
      "metadata": {
        "id": "CpfeHYMmABOy"
      }
    },
    {
      "cell_type": "markdown",
      "source": [
        "hello_1.py"
      ],
      "metadata": {
        "id": "Yhd1A_5mAaJC"
      }
    },
    {
      "cell_type": "code",
      "execution_count": null,
      "metadata": {
        "colab": {
          "base_uri": "https://localhost:8080/"
        },
        "id": "2XKC8BP7_7Gm",
        "outputId": "9744a00c-2dcf-4122-8758-8a1ab1efad95"
      },
      "outputs": [
        {
          "output_type": "stream",
          "name": "stdout",
          "text": [
            "Hello World\n"
          ]
        }
      ],
      "source": [
        "print('Hello World')"
      ]
    },
    {
      "cell_type": "code",
      "source": [
        "print('헬로 월드')"
      ],
      "metadata": {
        "colab": {
          "base_uri": "https://localhost:8080/"
        },
        "id": "0MGnZ22QCBw7",
        "outputId": "de2b439f-dc56-4a96-e16d-2eb5450643ba"
      },
      "execution_count": null,
      "outputs": [
        {
          "output_type": "stream",
          "name": "stdout",
          "text": [
            "헬로 월드\n"
          ]
        }
      ]
    },
    {
      "cell_type": "markdown",
      "source": [
        "hello_2.py"
      ],
      "metadata": {
        "id": "ww0IgVLEBhUJ"
      }
    },
    {
      "cell_type": "code",
      "source": [
        "print('Hello World')\n",
        "print('Hello World')"
      ],
      "metadata": {
        "colab": {
          "base_uri": "https://localhost:8080/"
        },
        "id": "yds9zjnVBVS_",
        "outputId": "d0422c08-9cd6-4a78-e0ff-1ee4b3af134f"
      },
      "execution_count": null,
      "outputs": [
        {
          "output_type": "stream",
          "name": "stdout",
          "text": [
            "Hello World\n",
            "Hello World\n"
          ]
        }
      ]
    },
    {
      "cell_type": "markdown",
      "source": [
        "hello_3.py"
      ],
      "metadata": {
        "id": "wIbRMgCgBpla"
      }
    },
    {
      "cell_type": "code",
      "source": [
        "def DoubleHello():\n",
        "  print('Hello World')\n",
        "  print('Hello World')\n",
        "\n",
        "DoubleHello()"
      ],
      "metadata": {
        "colab": {
          "base_uri": "https://localhost:8080/"
        },
        "id": "3v2EeDJUBpK3",
        "outputId": "34bd701b-17d4-41d4-f49d-be6f5096d06e"
      },
      "execution_count": null,
      "outputs": [
        {
          "output_type": "stream",
          "name": "stdout",
          "text": [
            "Hello World\n",
            "Hello World\n"
          ]
        }
      ]
    },
    {
      "cell_type": "markdown",
      "source": [
        "사용자 정의함수\n",
        "함수 호출\n",
        "2,3"
      ],
      "metadata": {
        "id": "3oNcNsl_CMYG"
      }
    },
    {
      "cell_type": "code",
      "source": [
        "!pip install import_ipynb"
      ],
      "metadata": {
        "colab": {
          "base_uri": "https://localhost:8080/"
        },
        "id": "8ltGI3DBDqhj",
        "outputId": "66177457-81c9-4080-aed2-f3e0611da830"
      },
      "execution_count": null,
      "outputs": [
        {
          "output_type": "stream",
          "name": "stdout",
          "text": [
            "Requirement already satisfied: import_ipynb in /usr/local/lib/python3.7/dist-packages (0.1.3)\n"
          ]
        }
      ]
    },
    {
      "cell_type": "code",
      "source": [
        "import import_ipynb"
      ],
      "metadata": {
        "id": "aIBRDvypDuTZ"
      },
      "execution_count": null,
      "outputs": []
    },
    {
      "cell_type": "code",
      "source": [
        "from google.colab import drive\n",
        "drive.mount('/content/drive')"
      ],
      "metadata": {
        "colab": {
          "base_uri": "https://localhost:8080/"
        },
        "id": "bCn-eXSNDxYh",
        "outputId": "1fa137c8-b9b9-437d-aedb-1c8255204468"
      },
      "execution_count": null,
      "outputs": [
        {
          "output_type": "stream",
          "name": "stdout",
          "text": [
            "Drive already mounted at /content/drive; to attempt to forcibly remount, call drive.mount(\"/content/drive\", force_remount=True).\n"
          ]
        }
      ]
    },
    {
      "cell_type": "code",
      "source": [
        "!pwd"
      ],
      "metadata": {
        "colab": {
          "base_uri": "https://localhost:8080/"
        },
        "id": "_KItO6xvEG_a",
        "outputId": "50e41896-a25b-4ea9-96ac-9339419fdc36"
      },
      "execution_count": null,
      "outputs": [
        {
          "output_type": "stream",
          "name": "stdout",
          "text": [
            "/content/drive/My Drive/Colab Notebooks\n"
          ]
        }
      ]
    },
    {
      "cell_type": "code",
      "source": [
        "%cd /content/drive/My\\ Drive/Colab Notebooks"
      ],
      "metadata": {
        "colab": {
          "base_uri": "https://localhost:8080/"
        },
        "id": "F9KQjMZrEQ4Z",
        "outputId": "bf745e2a-aa65-476d-b11f-5acf2f243e3c"
      },
      "execution_count": null,
      "outputs": [
        {
          "output_type": "stream",
          "name": "stdout",
          "text": [
            "/content/drive/My Drive/Colab Notebooks\n"
          ]
        }
      ]
    },
    {
      "cell_type": "code",
      "source": [
        "!pwd"
      ],
      "metadata": {
        "colab": {
          "base_uri": "https://localhost:8080/"
        },
        "id": "HIns-JS_EmhZ",
        "outputId": "aed7f2ef-bb53-48d6-e6cc-14a0c21f39df"
      },
      "execution_count": null,
      "outputs": [
        {
          "output_type": "stream",
          "name": "stdout",
          "text": [
            "/content/drive/My Drive/Colab Notebooks\n"
          ]
        }
      ]
    },
    {
      "cell_type": "code",
      "source": [
        "ls"
      ],
      "metadata": {
        "colab": {
          "base_uri": "https://localhost:8080/"
        },
        "id": "ii8iVoCkExkZ",
        "outputId": "5d15a386-bf4b-4d8f-c212-eeefff8a9bf4"
      },
      "execution_count": null,
      "outputs": [
        {
          "output_type": "stream",
          "name": "stdout",
          "text": [
            " 실습3.10.ipynb    BCPweek1.ipynb      practice3.4.ipynb   Untitled1.ipynb\n",
            "'3월 10일.ipynb'   myFunctions.ipynb   Untitled0.ipynb\n"
          ]
        }
      ]
    },
    {
      "cell_type": "markdown",
      "source": [
        "hello_4.py"
      ],
      "metadata": {
        "id": "sYopIZnvFD9A"
      }
    },
    {
      "cell_type": "code",
      "source": [
        "import myFunctions\n",
        "\n",
        "myFunctions.DoubleHello()"
      ],
      "metadata": {
        "colab": {
          "base_uri": "https://localhost:8080/"
        },
        "id": "Yma5oVveE_yp",
        "outputId": "8cb3fe72-5692-4126-beb0-cf6f72ac414c"
      },
      "execution_count": null,
      "outputs": [
        {
          "output_type": "stream",
          "name": "stdout",
          "text": [
            "Hello World\n",
            "Hello World\n"
          ]
        }
      ]
    },
    {
      "cell_type": "markdown",
      "source": [
        "roundEx.py"
      ],
      "metadata": {
        "id": "jnNp_j3pKJmg"
      }
    },
    {
      "cell_type": "code",
      "source": [
        "#--------------import statement\n",
        "import math\n",
        "\n",
        "#Funtion definitions\n",
        "def DoubleHello():\n",
        "  print('Hello World')\n",
        "  print('Hello World')\n",
        "\n",
        "\n",
        "#main program\n",
        "ceil_result = math.ceil(3.41)\n",
        "print(ceil_result)\n",
        "DoubleHello()"
      ],
      "metadata": {
        "colab": {
          "base_uri": "https://localhost:8080/"
        },
        "id": "L9QL4QZKKI7w",
        "outputId": "eec45952-615d-4761-94f1-e76ce23b08ee"
      },
      "execution_count": null,
      "outputs": [
        {
          "output_type": "stream",
          "name": "stdout",
          "text": [
            "4\n",
            "Hello World\n",
            "Hello World\n"
          ]
        }
      ]
    },
    {
      "cell_type": "markdown",
      "source": [
        "변수_=왼쪽에 넣겠다_print 매개변수"
      ],
      "metadata": {
        "id": "5iO_45QrKl4A"
      }
    },
    {
      "cell_type": "markdown",
      "source": [
        "github에 올리기"
      ],
      "metadata": {
        "id": "1oiJE3ubLsC6"
      }
    }
  ]
}