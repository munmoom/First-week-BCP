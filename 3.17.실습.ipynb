{
  "nbformat": 4,
  "nbformat_minor": 0,
  "metadata": {
    "colab": {
      "name": "Untitled4.ipynb의 사본",
      "provenance": [],
      "authorship_tag": "ABX9TyPve+7H+TTngus8NIcMfgRd",
      "include_colab_link": true
    },
    "kernelspec": {
      "name": "python3",
      "display_name": "Python 3"
    },
    "language_info": {
      "name": "python"
    }
  },
  "cells": [
    {
      "cell_type": "markdown",
      "metadata": {
        "id": "view-in-github",
        "colab_type": "text"
      },
      "source": [
        "<a href=\"https://colab.research.google.com/github/munmoom/First-week-BCP/blob/main/3.17.%EC%8B%A4%EC%8A%B5.ipynb\" target=\"_parent\"><img src=\"https://colab.research.google.com/assets/colab-badge.svg\" alt=\"Open In Colab\"/></a>"
      ]
    },
    {
      "cell_type": "code",
      "execution_count": null,
      "metadata": {
        "colab": {
          "base_uri": "https://localhost:8080/"
        },
        "id": "1fOhOqQ0F7GN",
        "outputId": "f766950a-bbff-4f3d-f4ce-273288ada0e5"
      },
      "outputs": [
        {
          "output_type": "execute_result",
          "data": {
            "text/plain": [
              "93891671202816"
            ]
          },
          "metadata": {},
          "execution_count": 1
        }
      ],
      "source": [
        "n= 17\n",
        "id(n)"
      ]
    },
    {
      "cell_type": "code",
      "source": [
        "n=\"seventeen\"\n",
        "id(n)"
      ],
      "metadata": {
        "colab": {
          "base_uri": "https://localhost:8080/"
        },
        "id": "nNO9qdmzGAp1",
        "outputId": "3e156d6c-31c7-4709-f20d-a1146f293d9e"
      },
      "execution_count": null,
      "outputs": [
        {
          "output_type": "execute_result",
          "data": {
            "text/plain": [
              "140347400531632"
            ]
          },
          "metadata": {},
          "execution_count": 2
        }
      ]
    },
    {
      "cell_type": "code",
      "source": [
        "x=10\n",
        "y=x\n",
        "print(x is y)\n",
        "print(id(x))\n",
        "print(id(y))\n",
        "\n",
        "y=5\n",
        "\n",
        "print(x)\n",
        "print(y)\n",
        "\n",
        "print(id(x))\n",
        "print(id(y))"
      ],
      "metadata": {
        "colab": {
          "base_uri": "https://localhost:8080/"
        },
        "id": "OJvBGNkzGF-V",
        "outputId": "45d28778-273f-4fcb-9ed4-dbca5564231b"
      },
      "execution_count": null,
      "outputs": [
        {
          "output_type": "stream",
          "name": "stdout",
          "text": [
            "True\n",
            "93891671202592\n",
            "93891671202592\n",
            "10\n",
            "5\n",
            "93891671202592\n",
            "93891671202432\n"
          ]
        }
      ]
    },
    {
      "cell_type": "code",
      "source": [
        "x=[2,3,4,1,10,2]\n",
        "y=x\n",
        "print(id(x))\n",
        "print(id(y))\n",
        "y[2]=15\n",
        "\n",
        "print(id(x))\n",
        "print(id(y))\n",
        "print(x)\n",
        "print(y)"
      ],
      "metadata": {
        "id": "hxJN2D5RGnCl",
        "colab": {
          "base_uri": "https://localhost:8080/"
        },
        "outputId": "ffe554fd-5375-4337-9405-495e28ed12b3"
      },
      "execution_count": null,
      "outputs": [
        {
          "output_type": "stream",
          "name": "stdout",
          "text": [
            "140347255471792\n",
            "140347255471792\n",
            "140347255471792\n",
            "140347255471792\n",
            "[2, 3, 15, 1, 10, 2]\n",
            "[2, 3, 15, 1, 10, 2]\n"
          ]
        }
      ]
    },
    {
      "cell_type": "markdown",
      "source": [
        "list같은 경우 복사에서 쓰면 처음에 있던 list값이 바뀔 수 있다"
      ],
      "metadata": {
        "id": "ILsJ_-5GG05C"
      }
    },
    {
      "cell_type": "code",
      "source": [
        "x=[2,3,4,1,10,2]\n",
        "y=list(x)\n",
        "y[2]=15\n",
        "\n",
        "print(x)\n",
        "print(y)"
      ],
      "metadata": {
        "colab": {
          "base_uri": "https://localhost:8080/"
        },
        "id": "j9WgDcgBG8IU",
        "outputId": "7967af50-7b25-4924-82fe-210182567b43"
      },
      "execution_count": 1,
      "outputs": [
        {
          "output_type": "stream",
          "name": "stdout",
          "text": [
            "[2, 3, 4, 1, 10, 2]\n",
            "[2, 3, 15, 1, 10, 2]\n"
          ]
        }
      ]
    },
    {
      "cell_type": "markdown",
      "source": [
        "이러면 괜찮"
      ],
      "metadata": {
        "id": "2XePC9rYHvYF"
      }
    },
    {
      "cell_type": "code",
      "source": [
        "A, B = map(int, input().split())\n",
        "print(A+B)"
      ],
      "metadata": {
        "colab": {
          "base_uri": "https://localhost:8080/"
        },
        "id": "ERuN-XgFHxz0",
        "outputId": "83e1998b-a1b0-479d-920d-6d0c67461b04"
      },
      "execution_count": null,
      "outputs": [
        {
          "output_type": "stream",
          "name": "stdout",
          "text": [
            "1 2\n",
            "3\n"
          ]
        }
      ]
    },
    {
      "cell_type": "markdown",
      "source": [
        "띄어쓰기면 map\n",
        "줄바꿈이면 따로따로(여러 줄)"
      ],
      "metadata": {
        "id": "fPUp9y6BJcUM"
      }
    },
    {
      "cell_type": "markdown",
      "source": [
        "문제 대부분 이런 형식으로 시작\n",
        "1. 입력\n",
        "2. 출력"
      ],
      "metadata": {
        "id": "KzXpI_AZILDc"
      }
    },
    {
      "cell_type": "markdown",
      "source": [
        "006분반"
      ],
      "metadata": {
        "id": "Cbof9pRJIfzE"
      }
    },
    {
      "cell_type": "markdown",
      "source": [
        "split은 공백을 기준으로 나뉜다"
      ],
      "metadata": {
        "id": "iVcnWbtKI16k"
      }
    },
    {
      "cell_type": "markdown",
      "source": [
        "저지 프로그램에서 연습 많이^^"
      ],
      "metadata": {
        "id": "KqJOOTOYJTVZ"
      }
    },
    {
      "cell_type": "code",
      "source": [
        "x=int(input())\n",
        "y=int(input())\n",
        "\n",
        "print(x+y)\n",
        "print(x-y)\n",
        "print(x*y)\n",
        "print(x/y)"
      ],
      "metadata": {
        "colab": {
          "base_uri": "https://localhost:8080/"
        },
        "id": "LoLv0hUtJNuM",
        "outputId": "931296d7-d2d7-4de2-d893-91f68388cec1"
      },
      "execution_count": null,
      "outputs": [
        {
          "output_type": "stream",
          "name": "stdout",
          "text": [
            "2\n",
            "4\n",
            "6\n",
            "-2\n",
            "8\n",
            "0.5\n"
          ]
        }
      ]
    },
    {
      "cell_type": "markdown",
      "source": [
        "줄바꿈 경우"
      ],
      "metadata": {
        "id": "vfzbSZhfJnRb"
      }
    },
    {
      "cell_type": "code",
      "source": [
        "A=int(input())\n",
        "B=int(input())\n",
        "\n",
        "result = A+B\n",
        "\n",
        "\n",
        "  print(A+B)\n",
        "  print(A-B)\n",
        "  print(A*B)\n",
        "  print(A/B)"
      ],
      "metadata": {
        "id": "qyBPQ_j1Mapi"
      },
      "execution_count": null,
      "outputs": []
    },
    {
      "cell_type": "code",
      "source": [
        "num=int(input())\n",
        "choo=int(input())\n",
        "tuna=int(input())\n",
        "fish=int(input())\n",
        "chicken=int(input())\n",
        "feed=int(input())\n",
        "cho = choo*3000\n",
        "tu=tuna*3000\n",
        "fi=fish*12000\n",
        "chi=chicken*4000\n",
        "fe=feed*4000\n",
        "\n",
        "total=cho+tu+fi+chi+fe\n",
        "result=total/num\n",
        "\n",
        "print(f'{int(result)}원')"
      ],
      "metadata": {
        "colab": {
          "base_uri": "https://localhost:8080/"
        },
        "id": "MaeMrBvuPsPZ",
        "outputId": "0f6c204b-8bd8-48ec-9107-06b8a4fdf1cf"
      },
      "execution_count": null,
      "outputs": [
        {
          "output_type": "stream",
          "name": "stdout",
          "text": [
            "2\n",
            "2\n",
            "2\n",
            "2\n",
            "2\n",
            "22\n",
            "66000원\n"
          ]
        }
      ]
    },
    {
      "cell_type": "code",
      "source": [
        "num=int(input())\n",
        "choo=int(input())\n",
        "tuna=int(input())\n",
        "fish=int(input())\n",
        "chicken=int(input())\n",
        "feed=int(input())\n",
        "cho = choo*3000\n",
        "tu=tuna*3000\n",
        "fi=fish*12000\n",
        "chi=chicken*4000\n",
        "fe=feed*4000\n",
        "\n",
        "total=cho+tu+fi+chi+fe\n",
        "result=total//num\n",
        "\n",
        "print(f'{(result)}원')"
      ],
      "metadata": {
        "colab": {
          "base_uri": "https://localhost:8080/"
        },
        "id": "xNQz_iMSSHLw",
        "outputId": "66f68674-e09a-48ee-cd88-8126f9b906a6"
      },
      "execution_count": null,
      "outputs": [
        {
          "output_type": "stream",
          "name": "stdout",
          "text": [
            "2\n",
            "2\n",
            "2\n",
            "2\n",
            "2\n",
            "22\n",
            "66000원\n"
          ]
        }
      ]
    },
    {
      "cell_type": "markdown",
      "source": [
        "정수/정수=실수\n",
        "int로 정수"
      ],
      "metadata": {
        "id": "3__hK6wlP7tp"
      }
    },
    {
      "cell_type": "code",
      "source": [
        "12+12.3"
      ],
      "metadata": {
        "colab": {
          "base_uri": "https://localhost:8080/"
        },
        "id": "DTDlpfk3QWHY",
        "outputId": "bb00a51e-d5e8-4dec-8ede-689b983a4d32"
      },
      "execution_count": null,
      "outputs": [
        {
          "output_type": "execute_result",
          "data": {
            "text/plain": [
              "24.3"
            ]
          },
          "metadata": {},
          "execution_count": 16
        }
      ]
    },
    {
      "cell_type": "markdown",
      "source": [
        "계산에서는 더 큰 범위로 바뀜 -----정수->실수"
      ],
      "metadata": {
        "id": "QBWU0452Qawp"
      }
    },
    {
      "cell_type": "code",
      "source": [
        ""
      ],
      "metadata": {
        "id": "aOylSj6vQq3O"
      },
      "execution_count": null,
      "outputs": []
    }
  ]
}